{
 "cells": [
  {
   "cell_type": "markdown",
   "id": "396ce41d",
   "metadata": {},
   "source": [
    "# Manipulating Text with Regular Expression"
   ]
  },
  {
   "cell_type": "code",
   "execution_count": 1,
   "id": "2b1c1faa",
   "metadata": {},
   "outputs": [],
   "source": [
    "#Now to manipulate text we are going to use this library\n",
    "import re"
   ]
  },
  {
   "cell_type": "code",
   "execution_count": 2,
   "id": "53f8e6fa",
   "metadata": {},
   "outputs": [
    {
     "name": "stdout",
     "output_type": "stream",
     "text": [
      "Thats lit\n"
     ]
    }
   ],
   "source": [
    "#lets take an example\n",
    "text = 'This is a good day'\n",
    "#to make sure it really is a good day\n",
    "if re.search('good',text):\n",
    "    print(\"Thats lit\")\n",
    "else: print(\"Alas :(\")\n"
   ]
  },
  {
   "cell_type": "code",
   "execution_count": 3,
   "id": "19146e1d",
   "metadata": {},
   "outputs": [
    {
     "data": {
      "text/plain": [
       "['',\n",
       " ' works diligently. ',\n",
       " ' gets good grades. Our student ',\n",
       " ' is succesful.']"
      ]
     },
     "execution_count": 3,
     "metadata": {},
     "output_type": "execute_result"
    }
   ],
   "source": [
    "#lets take other example\n",
    "text = 'Amy works diligently. Amy gets good grades. Our student Amy is succesful.'\n",
    "re.split(\"Amy\", text)"
   ]
  },
  {
   "cell_type": "code",
   "execution_count": 4,
   "id": "cf79170c",
   "metadata": {},
   "outputs": [
    {
     "data": {
      "text/plain": [
       "['Amy', 'Amy', 'Amy']"
      ]
     },
     "execution_count": 4,
     "metadata": {},
     "output_type": "execute_result"
    }
   ],
   "source": [
    "re.findall(\"Amy\", text)"
   ]
  },
  {
   "cell_type": "code",
   "execution_count": 5,
   "id": "57bf28a9",
   "metadata": {},
   "outputs": [
    {
     "data": {
      "text/plain": [
       "<re.Match object; span=(0, 3), match='Amy'>"
      ]
     },
     "execution_count": 5,
     "metadata": {},
     "output_type": "execute_result"
    }
   ],
   "source": [
    "#To identify some patterns we can use the character ^, \n",
    "#so putting it before a word, it will sought patterns which begins\n",
    "#by this word, for instance\n",
    "re.search(\"^Amy\", text)"
   ]
  },
  {
   "cell_type": "code",
   "execution_count": 86,
   "id": "052fb213",
   "metadata": {},
   "outputs": [],
   "source": [
    "#Moreover, using $ character it will sought patterns which ends so\n",
    "#,e.g.,\n",
    "re.search(\"Amy$\", text)"
   ]
  },
  {
   "cell_type": "markdown",
   "id": "cf375bb4",
   "metadata": {},
   "source": [
    "## Patterns and Character"
   ]
  },
  {
   "cell_type": "code",
   "execution_count": 7,
   "id": "2345a292",
   "metadata": {},
   "outputs": [
    {
     "data": {
      "text/plain": [
       "['B', 'B', 'B']"
      ]
     },
     "execution_count": 7,
     "metadata": {},
     "output_type": "execute_result"
    }
   ],
   "source": [
    "#For example\n",
    "grades = \"ACAAAABCBCBAA\"\n",
    "#Then, how many B's were in the grade list?\n",
    "re.findall(\"B\", grades)"
   ]
  },
  {
   "cell_type": "code",
   "execution_count": 8,
   "id": "5c266bd4",
   "metadata": {},
   "outputs": [
    {
     "data": {
      "text/plain": [
       "['A', 'A', 'A', 'A', 'A', 'B', 'B', 'B', 'A', 'A']"
      ]
     },
     "execution_count": 8,
     "metadata": {},
     "output_type": "execute_result"
    }
   ],
   "source": [
    "#or, how many A's and B's were in the grade list?\n",
    "re.findall(\"[AB]\", grades)"
   ]
  },
  {
   "cell_type": "code",
   "execution_count": 9,
   "id": "91332eb7",
   "metadata": {},
   "outputs": [
    {
     "data": {
      "text/plain": [
       "['AC', 'AB']"
      ]
     },
     "execution_count": 9,
     "metadata": {},
     "output_type": "execute_result"
    }
   ],
   "source": [
    "#or also, how many A's followed by a B or a C were?\n",
    "re.findall(\"[A][B-C]\",grades)"
   ]
  },
  {
   "cell_type": "code",
   "execution_count": 10,
   "id": "e5147cca",
   "metadata": {},
   "outputs": [
    {
     "data": {
      "text/plain": [
       "['AC', 'AB']"
      ]
     },
     "execution_count": 10,
     "metadata": {},
     "output_type": "execute_result"
    }
   ],
   "source": [
    "#this also can be done as\n",
    "re.findall(\"AB|AC\", grades)"
   ]
  },
  {
   "cell_type": "code",
   "execution_count": 11,
   "id": "6009bf76",
   "metadata": {},
   "outputs": [
    {
     "data": {
      "text/plain": [
       "['C', 'B', 'C', 'B', 'C', 'B']"
      ]
     },
     "execution_count": 11,
     "metadata": {},
     "output_type": "execute_result"
    }
   ],
   "source": [
    "#to find out the grades that were not A's\n",
    "re.findall(\"[^A]\", grades)"
   ]
  },
  {
   "cell_type": "code",
   "execution_count": 12,
   "id": "6121c4be",
   "metadata": {},
   "outputs": [
    {
     "data": {
      "text/plain": [
       "['A', 'A', 'A', 'A', 'A', 'A', 'A']"
      ]
     },
     "execution_count": 12,
     "metadata": {},
     "output_type": "execute_result"
    }
   ],
   "source": [
    "re.findall(\"[A$]\", grades)"
   ]
  },
  {
   "cell_type": "code",
   "execution_count": 13,
   "id": "5a379736",
   "metadata": {},
   "outputs": [
    {
     "data": {
      "text/plain": [
       "[]"
      ]
     },
     "execution_count": 13,
     "metadata": {},
     "output_type": "execute_result"
    }
   ],
   "source": [
    "#and find out matches that not begins with A\n",
    "re.findall(\"^[^A]\", grades)\n",
    "#There's no match because our string begins with A"
   ]
  },
  {
   "cell_type": "markdown",
   "id": "77927b7a",
   "metadata": {},
   "source": [
    "## Quantifiers"
   ]
  },
  {
   "cell_type": "code",
   "execution_count": 14,
   "id": "85494ea8",
   "metadata": {},
   "outputs": [
    {
     "data": {
      "text/plain": [
       "['AAAA', 'AA']"
      ]
     },
     "execution_count": 14,
     "metadata": {},
     "output_type": "execute_result"
    }
   ],
   "source": [
    "# We also can obtain certain amont of matches using e{m,n}, where\n",
    "# e is the pattern and m is the minimum number of matches and \n",
    "# n the maximum, so\n",
    "re.findall(\"A{2,10}\", grades)"
   ]
  },
  {
   "cell_type": "code",
   "execution_count": 15,
   "id": "d66f15a7",
   "metadata": {},
   "outputs": [
    {
     "data": {
      "text/plain": [
       "['AAA', 'AA']"
      ]
     },
     "execution_count": 15,
     "metadata": {},
     "output_type": "execute_result"
    }
   ],
   "source": [
    "re.findall(\"A{2,3}\", grades)"
   ]
  },
  {
   "cell_type": "code",
   "execution_count": 16,
   "id": "e9a317bc",
   "metadata": {},
   "outputs": [
    {
     "data": {
      "text/plain": [
       "['AA', 'AA', 'AA']"
      ]
     },
     "execution_count": 16,
     "metadata": {},
     "output_type": "execute_result"
    }
   ],
   "source": [
    "re.findall(\"A{1,1}A{1,1}\", grades)"
   ]
  },
  {
   "cell_type": "code",
   "execution_count": 17,
   "id": "73eccbf3",
   "metadata": {},
   "outputs": [
    {
     "data": {
      "text/plain": [
       "['AA', 'AA', 'AA']"
      ]
     },
     "execution_count": 17,
     "metadata": {},
     "output_type": "execute_result"
    }
   ],
   "source": [
    "re.findall(\"A{2,2}\", grades)"
   ]
  },
  {
   "cell_type": "code",
   "execution_count": 18,
   "id": "22ebe8da",
   "metadata": {},
   "outputs": [
    {
     "data": {
      "text/plain": [
       "['AA', 'AA', 'AA']"
      ]
     },
     "execution_count": 18,
     "metadata": {},
     "output_type": "execute_result"
    }
   ],
   "source": [
    "re.findall(\"AA\", grades)"
   ]
  },
  {
   "cell_type": "code",
   "execution_count": 19,
   "id": "741cabab",
   "metadata": {},
   "outputs": [
    {
     "data": {
      "text/plain": [
       "['AAAABC']"
      ]
     },
     "execution_count": 19,
     "metadata": {},
     "output_type": "execute_result"
    }
   ],
   "source": [
    "re.findall(\"A{1,10}B{1,10}C{1,10}\", grades)"
   ]
  },
  {
   "cell_type": "markdown",
   "id": "455c2f83",
   "metadata": {},
   "source": [
    "### Reading Text"
   ]
  },
  {
   "cell_type": "code",
   "execution_count": 20,
   "id": "abd3c138",
   "metadata": {
    "scrolled": true
   },
   "outputs": [
    {
     "data": {
      "text/plain": [
       "'Overview[edit]\\nFERPA gives parents access to their child\\'s education records, an opportunity to seek to have the records amended, and some control over the disclosure of information from the records. With several exceptions, schools must have a student\\'s consent prior to the disclosure of education records after that student is 18 years old. The law applies only to educational agencies and institutions that receive funds under a program administered by the U.S. Department of Education.\\n\\nOther regulations under this act, effective starting January 3, 2012, allow for greater disclosures of personal and directory student identifying information and regulate student IDs and e-mail addresses.[2] For example, schools may provide external companies with a student\\'s personally identifiable information without the student\\'s consent.[2]\\n\\nExamples of situations affected by FERPA include school employees divulging information to anyone other than the student about the student\\'s grades or behavior, and school work posted on a bulletin board with a grade. Generally, schools must have written permission from the parent or eligible student in order to release any information from a student\\'s education record.\\n\\nThis privacy policy also governs how state agencies transmit testing data to federal agencies, such as the Education Data Exchange Network.\\n\\nThis U.S. federal law also gave students 18 years of age or older, or students of any age if enrolled in any post-secondary educational institution, the right of privacy regarding grades, enrollment, and even billing information unless the school has specific permission from the student to share that specific type of information.\\n\\nFERPA also permits a school to disclose personally identifiable information from education records of an \"eligible student\" (a student age 18 or older or enrolled in a postsecondary institution at any age) to his or her parents if the student is a \"dependent student\" as that term is defined in Section 152 of the Internal Revenue Code. Generally, if either parent has claimed the student as a dependent on the parent\\'s most recent income tax statement, the school may non-consensually disclose the student\\'s education records to both parents.[3]\\n\\nThe law allowed students who apply to an educational institution such as graduate school permission to view recommendations submitted by others as part of the application. However, on standard application forms, students are given the option to waive this right.\\n\\nFERPA specifically excludes employees of an educational institution if they are not students.\\n\\nThe act is also referred to as the Buckley Amendment, for one of its proponents, Senator James L. Buckley of New York.\\n\\nAccess to public records[edit]\\nThe citing of FERPA to conceal public records that are not \"educational\" in nature has been widely criticized, including by the act\\'s primary Senate sponsor.[4] For example, in the Owasso Independent School District v. Falvo case, an important part of the debate was determining the relationship between peer-grading and \"education records\" as defined in FERPA. In the Court of Appeals, it was ruled that students placing grades on the work of other students made such work into an \"education record.\" Thus, peer-grading was determined as a violation of FERPA privacy policies because students had access to other students\\' academic performance without full consent.[5] However, when the case went to the Supreme Court, it was officially ruled that peer-grading was not a violation of FERPA. This is because a grade written on a student\\'s work does not become an \"education record\" until the teacher writes the final grade into a grade book.[6]\\n\\nStudent medical records[edit]\\nLegal experts have debated the issue of whether student medical records (for example records of therapy sessions with a therapist at an on-campus counseling center) might be released to the school administration under certain triggering events, such as when a student sued his college or university.[7][8]\\n\\nUsually, student medical treatment records will remain under the protection of FERPA, not the Health Insurance Portability and Accountability Act (HIPAA). This is due to the \"FERPA Exception\" written within HIPAA.[9]'"
      ]
     },
     "execution_count": 20,
     "metadata": {},
     "output_type": "execute_result"
    }
   ],
   "source": [
    "with open(\"Datasets/ferpa.txt\", \"r\") as file:\n",
    "    #To read into the text\n",
    "    wiki = file.read()\n",
    "wiki"
   ]
  },
  {
   "cell_type": "code",
   "execution_count": 21,
   "id": "f962178a",
   "metadata": {},
   "outputs": [
    {
     "data": {
      "text/plain": [
       "['Overview[edit]', 'records[edit]', 'records[edit]']"
      ]
     },
     "execution_count": 21,
     "metadata": {},
     "output_type": "execute_result"
    }
   ],
   "source": [
    "# In this text behind each header appears the pattern [edit], so\n",
    "re.findall(\"[a-zA-Z]{1,100}\\[edit\\]\", wiki)\n",
    "# so we get the headers we were looking for"
   ]
  },
  {
   "cell_type": "code",
   "execution_count": 22,
   "id": "ae07e29a",
   "metadata": {},
   "outputs": [
    {
     "data": {
      "text/plain": [
       "['Overview[edit]', 'records[edit]', 'records[edit]']"
      ]
     },
     "execution_count": 22,
     "metadata": {},
     "output_type": "execute_result"
    }
   ],
   "source": [
    "# However, the latter just take into account letters not numbers,\n",
    "# to solve this we use the metacharacter \\w, so\n",
    "re.findall(\"[\\w]{1,100}\\[edit\\]\", wiki)"
   ]
  },
  {
   "cell_type": "code",
   "execution_count": 23,
   "id": "09ab791b",
   "metadata": {},
   "outputs": [
    {
     "data": {
      "text/plain": [
       "['Overview[edit]', 'records[edit]', 'records[edit]']"
      ]
     },
     "execution_count": 23,
     "metadata": {},
     "output_type": "execute_result"
    }
   ],
   "source": [
    "# This can be shorter replacing the curly brackest by *, i.e.,\n",
    "re.findall(\"[\\w]*\\[edit\\]\", wiki)"
   ]
  },
  {
   "cell_type": "code",
   "execution_count": 24,
   "id": "770a7171",
   "metadata": {},
   "outputs": [
    {
     "data": {
      "text/plain": [
       "['Overview[edit]',\n",
       " 'Access to public records[edit]',\n",
       " 'Student medical records[edit]']"
      ]
     },
     "execution_count": 24,
     "metadata": {},
     "output_type": "execute_result"
    }
   ],
   "source": [
    "# To add more word before these ones, we do\n",
    "re.findall(\"[\\w ]*\\[edit\\]\", wiki)\n",
    "# This gets us the list of section title in the wikipedia page"
   ]
  },
  {
   "cell_type": "code",
   "execution_count": 25,
   "id": "ad46d8f1",
   "metadata": {},
   "outputs": [
    {
     "name": "stdout",
     "output_type": "stream",
     "text": [
      "Overview\n",
      "Access to public records\n",
      "Student medical records\n"
     ]
    }
   ],
   "source": [
    "#Now, to clean this data\n",
    "for title in re.findall(\"[\\w ]*\\[edit\\]\", wiki):\n",
    "    print(re.split(\"[\\[]\", title)[0])"
   ]
  },
  {
   "cell_type": "markdown",
   "id": "47552c38",
   "metadata": {},
   "source": [
    "## Groups"
   ]
  },
  {
   "cell_type": "code",
   "execution_count": 26,
   "id": "d53e7ef0",
   "metadata": {},
   "outputs": [
    {
     "data": {
      "text/plain": [
       "[('Overview', '[edit]'),\n",
       " ('Access to public records', '[edit]'),\n",
       " ('Student medical records', '[edit]')]"
      ]
     },
     "execution_count": 26,
     "metadata": {},
     "output_type": "execute_result"
    }
   ],
   "source": [
    "# We also can groups patterns into a tuple, i.e.,\n",
    "re.findall(\"([\\w ]*)(\\[edit\\])\", wiki)"
   ]
  },
  {
   "cell_type": "code",
   "execution_count": 27,
   "id": "c4b5b1fe",
   "metadata": {},
   "outputs": [
    {
     "name": "stdout",
     "output_type": "stream",
     "text": [
      "('Overview', '[edit]')\n",
      "('Access to public records', '[edit]')\n",
      "('Student medical records', '[edit]')\n"
     ]
    }
   ],
   "source": [
    "# to separate each tuple\n",
    "for item in re.finditer(\"([\\w ]*)(\\[edit\\])\", wiki):\n",
    "    print(item.groups())"
   ]
  },
  {
   "cell_type": "code",
   "execution_count": 28,
   "id": "55267099",
   "metadata": {},
   "outputs": [
    {
     "name": "stdout",
     "output_type": "stream",
     "text": [
      "Overview\n",
      "Access to public records\n",
      "Student medical records\n"
     ]
    }
   ],
   "source": [
    "# and to separate each header\n",
    "for item in re.finditer(\"([\\w ]*)(\\[edit\\])\", wiki):\n",
    "    print(item.group(1))"
   ]
  },
  {
   "cell_type": "markdown",
   "id": "e0e17106",
   "metadata": {},
   "source": [
    "## Example: Wikipedia Data"
   ]
  },
  {
   "cell_type": "code",
   "execution_count": 29,
   "id": "57ce21b2",
   "metadata": {},
   "outputs": [
    {
     "data": {
      "text/plain": [
       "'Buddhist universities and colleges in the United States\\nFrom Wikipedia, the free encyclopedia\\nJump to navigationJump to search\\n\\nThis article needs additional citations for verification. Please help improve this article by adding citations to reliable sources. Unsourced material may be challenged and removed.\\nFind sources: \"Buddhist universities and colleges in the United States\" – news · newspapers · books · scholar · JSTOR (December 2009) (Learn how and when to remove this template message)\\nThere are several Buddhist universities in the United States. Some of these have existed for decades and are accredited. Others are relatively new and are either in the process of being accredited or else have no formal accreditation. The list includes:\\n\\nDhammakaya Open University – located in Azusa, California, part of the Thai Wat Phra Dhammakaya[1]\\nDharmakirti College – located in Tucson, Arizona Now called Awam Tibetan Buddhist Institute (http://awaminstitute.org/)\\nDharma Realm Buddhist University – located in Ukiah, California\\nEwam Buddhist Institute – located in Arlee, Montana\\nNaropa University is located in Boulder, Colorado (Accredited by the Higher Learning Commission)\\nInstitute of Buddhist Studies – located in Berkeley, California\\nMaitripa College – located in Portland, Oregon\\nSoka University of America – located in Aliso Viejo, California\\nUniversity of the West – located in Rosemead, California\\nWon Institute of Graduate Studies – located in Glenside, Pennsylvania\\nReferences[edit]\\n^ Banchanon, Phongphiphat (3 February 2015). รู้จัก \"เครือข่ายธรรมกาย\" [Getting to know the Dhammakaya network]. Forbes Thailand (in Thai). Retrieved 11 November 2016.\\nExternal links[edit]\\nList of Buddhist Universities and Colleges in the world\\n'"
      ]
     },
     "execution_count": 29,
     "metadata": {},
     "output_type": "execute_result"
    }
   ],
   "source": [
    "with open(\"Datasets/buddhist.txt\",\"r\") as file:\n",
    "    wiki = file.read()\n",
    "wiki"
   ]
  },
  {
   "cell_type": "code",
   "execution_count": 30,
   "id": "70e95a46",
   "metadata": {},
   "outputs": [
    {
     "name": "stdout",
     "output_type": "stream",
     "text": [
      "{'title': 'Dhammakaya Open University ', 'city': 'Azusa', 'state': 'California'}\n",
      "{'title': 'Dharmakirti College ', 'city': 'Tucson', 'state': 'Arizona'}\n",
      "{'title': 'Dharma Realm Buddhist University ', 'city': 'Ukiah', 'state': 'California'}\n",
      "{'title': 'Ewam Buddhist Institute ', 'city': 'Arlee', 'state': 'Montana'}\n",
      "{'title': 'Institute of Buddhist Studies ', 'city': 'Berkeley', 'state': 'California'}\n",
      "{'title': 'Maitripa College ', 'city': 'Portland', 'state': 'Oregon'}\n",
      "{'title': 'University of the West ', 'city': 'Rosemead', 'state': 'California'}\n",
      "{'title': 'Won Institute of Graduate Studies ', 'city': 'Glenside', 'state': 'Pennsylvania'}\n"
     ]
    }
   ],
   "source": [
    "# Verbose modo in python regex\n",
    "pattern = \"\"\"\n",
    "(?P<title>.*)          #the  university title\n",
    "(–\\ located\\ in\\ )     #an indicator if the location\n",
    "(?P<city>\\w*)          #city the university is in\n",
    "(,\\ )                  #separator for the state\n",
    "(?P<state>\\w*)         #the state the city is located in \"\"\"\n",
    "\n",
    "for item in re.finditer(pattern,wiki,re.VERBOSE):\n",
    "    print(item.groupdict())"
   ]
  },
  {
   "cell_type": "markdown",
   "id": "6c18003b",
   "metadata": {},
   "source": [
    "## Regex Practice Section"
   ]
  },
  {
   "cell_type": "code",
   "execution_count": 121,
   "id": "8537f1e8",
   "metadata": {},
   "outputs": [
    {
     "data": {
      "text/plain": [
       "['unicorn,', 'element,', 'anana,', 'appl']"
      ]
     },
     "execution_count": 121,
     "metadata": {},
     "output_type": "execute_result"
    }
   ],
   "source": [
    "# Match word which begins with vowel letter but ends with no vowel letter\n",
    "words = \"unicorn, element, banana, apple\"\n",
    "re.findall(\"([aeiou][a-z]*[^aeiou])\" , words)"
   ]
  },
  {
   "cell_type": "code",
   "execution_count": 77,
   "id": "5db634b9",
   "metadata": {},
   "outputs": [
    {
     "data": {
      "text/plain": [
       "['0o112', '0o237', '0o07', '0xf3', '0x1d', '0x072', '0o12']"
      ]
     },
     "execution_count": 77,
     "metadata": {},
     "output_type": "execute_result"
    }
   ],
   "source": [
    "# Match octal and hexadecimal number\n",
    "unities = \"0o112, 0o237, 0o07, 0xf3, 0x1d, 0x072, 1233, 0o12f\"\n",
    "re.findall(\"0o[0-7]+|0x[0-9a-f]+\", unities)"
   ]
  },
  {
   "cell_type": "code",
   "execution_count": 111,
   "id": "dba54a8f",
   "metadata": {},
   "outputs": [
    {
     "data": {
      "text/plain": [
       "['Jane Doe']"
      ]
     },
     "execution_count": 111,
     "metadata": {},
     "output_type": "execute_result"
    }
   ],
   "source": [
    "# Match Firstname and Lastname in the beginning of a frase\n",
    "names = \"Jane Doe is eating breakfast. L Zhang is a great Broadway actor. Birthday Jhon Doe's Today\"\n",
    "re.findall(\"^[A-Z][a-z]* [A-Z][a-z]*\", names)"
   ]
  },
  {
   "cell_type": "code",
   "execution_count": 214,
   "id": "f79e85b9",
   "metadata": {},
   "outputs": [
    {
     "data": {
      "text/plain": [
       "['$3.45', '$23.32', '$40', '$400']"
      ]
     },
     "execution_count": 214,
     "metadata": {},
     "output_type": "execute_result"
    }
   ],
   "source": [
    "# Match price like $3.45 or $23.32 or $400, but not match price like $.23 or $400.1\n",
    "price = \"$3.45 or $23.32 or $40 or $.23 or $400.1\"\n",
    "re.findall(\"((?:\\$\\d+)(?:\\.\\d{2})?)\", price)"
   ]
  },
  {
   "cell_type": "code",
   "execution_count": 235,
   "id": "4f060b02",
   "metadata": {},
   "outputs": [
    {
     "data": {
      "text/plain": [
       "['abc@umich.edu', '8ab.c_def9@example.regex.com', 'ab..abc@def.com']"
      ]
     },
     "execution_count": 235,
     "metadata": {},
     "output_type": "execute_result"
    }
   ],
   "source": [
    "# Match email address\n",
    "emails = \"abc@umich.edu, 8ab.c_def9@example.regex.com, abc@ def., ab..abc@def.com, abc@def\"\n",
    "re.findall(\"\\w+\\.*\\w+@\\w+\\.\\w+\\.*\\w*\", emails)"
   ]
  },
  {
   "cell_type": "code",
   "execution_count": 241,
   "id": "9430f153",
   "metadata": {},
   "outputs": [
    {
     "data": {
      "text/plain": [
       "['www.aBC.com', 'abc.com', 'ab_c.de8f']"
      ]
     },
     "execution_count": 241,
     "metadata": {},
     "output_type": "execute_result"
    }
   ],
   "source": [
    "# Match URls\n",
    "urls = \"www.aBC.com, abc.com, ab_c.de8f.com, abc, abc..com\"\n",
    "re.findall(\"[www\\.]*\\w*\\w+\\.\\w+\", urls)"
   ]
  },
  {
   "cell_type": "code",
   "execution_count": 247,
   "id": "5265d7ca",
   "metadata": {},
   "outputs": [
    {
     "data": {
      "text/plain": [
       "['971-5-0210-0', '960-425-059-0']"
      ]
     },
     "execution_count": 247,
     "metadata": {},
     "output_type": "execute_result"
    }
   ],
   "source": [
    "# Match ISBN\n",
    "isbn = \"9971-5-0210-0, 960-425-059-0\"\n",
    "re.findall(\"\\d{3}-\\d{1}-\\d{4}-\\d{1}|\\d{3}-\\d{3}-\\d{3}-\\d\", isbn)"
   ]
  },
  {
   "cell_type": "code",
   "execution_count": 256,
   "id": "64138c1e",
   "metadata": {},
   "outputs": [
    {
     "data": {
      "text/plain": [
       "['doi:10.1038/nphys1170']"
      ]
     },
     "execution_count": 256,
     "metadata": {},
     "output_type": "execute_result"
    }
   ],
   "source": [
    "# Match a DOI registered by Crossref\n",
    "doi = \"doi:10.1038/nphys1170, doi:10.1002/0470841559.ch1\"\n",
    "re.findall(\"^doi:[0-9]+\\.+[0-9]+\\/\\w+\\.*\\w*\", doi)"
   ]
  },
  {
   "cell_type": "markdown",
   "id": "cd803987",
   "metadata": {},
   "source": [
    "# Quiz 1"
   ]
  },
  {
   "cell_type": "code",
   "execution_count": 260,
   "id": "0367581e",
   "metadata": {},
   "outputs": [
    {
     "name": "stdout",
     "output_type": "stream",
     "text": [
      "['bat', 'bot']\n"
     ]
    }
   ],
   "source": [
    "string = \"bat, bot, bit, bet\"\n",
    "result = re.findall(\"b[ao]t\", string)\n",
    "print(result)"
   ]
  },
  {
   "cell_type": "code",
   "execution_count": 272,
   "id": "43807a43",
   "metadata": {},
   "outputs": [
    {
     "data": {
      "text/plain": [
       "5"
      ]
     },
     "execution_count": 272,
     "metadata": {},
     "output_type": "execute_result"
    }
   ],
   "source": [
    "s = 'ACAABAACAAAB'\n",
    "re.findall(\"A{1,2}\", s)"
   ]
  },
  {
   "cell_type": "code",
   "execution_count": 271,
   "id": "48c3c7d2",
   "metadata": {},
   "outputs": [
    {
     "data": {
      "text/plain": [
       "['google.com', 'www.baidu.com']"
      ]
     },
     "execution_count": 271,
     "metadata": {},
     "output_type": "execute_result"
    }
   ],
   "source": [
    "domain = 'I refer to https://google.com and I never refer http://www.baidu.com if I have to search anything'\n",
    "re.findall(\"(?<=[https]:\\/\\/)([A-Za-z0-9.]*)\", domain)"
   ]
  }
 ],
 "metadata": {
  "kernelspec": {
   "display_name": "Python 3 (ipykernel)",
   "language": "python",
   "name": "python3"
  },
  "language_info": {
   "codemirror_mode": {
    "name": "ipython",
    "version": 3
   },
   "file_extension": ".py",
   "mimetype": "text/x-python",
   "name": "python",
   "nbconvert_exporter": "python",
   "pygments_lexer": "ipython3",
   "version": "3.8.10"
  }
 },
 "nbformat": 4,
 "nbformat_minor": 5
}
