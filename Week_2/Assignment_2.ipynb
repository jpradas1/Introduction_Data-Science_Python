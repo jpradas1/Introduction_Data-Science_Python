{
 "cells": [
  {
   "cell_type": "markdown",
   "id": "b6b917fd",
   "metadata": {},
   "source": [
    "# Assigment 2\n",
    "For this assignment we'll be looking at 2017 data on immunizations from the CDC. Our datafile for this assignment is in [Datasets/NISPUF17.csv](Datasets/NISPUF17.csv). A data users guide for this, which we'll need to map the variables in the data to the questions being asked, is available at [Datasets/NIS-PUF17-DUG.pdf](Datasets/NIS-PUF17-DUG.pdf)."
   ]
  },
  {
   "cell_type": "markdown",
   "id": "bb4eb8d4",
   "metadata": {},
   "source": [
    "## Question 1\n",
    "Here we are going to write a function called `proportion_of_education` which returns the proportion of children in the dataset who had a mother with the education levels equal to less than high school (<12), high school (12), more than high school but not a college graduate (>12) and college degree.\n",
    "\n",
    "*This function should return a dictionary in the form of (use the correct numbers, do not round numbers):* \n",
    "```\n",
    "    {\"less than high school\":0.2,\n",
    "    \"high school\":0.4,\n",
    "    \"more than high school but not college\":0.2,\n",
    "    \"college\":0.2}\n",
    "```"
   ]
  },
  {
   "cell_type": "code",
   "execution_count": 1,
   "id": "fa433eac",
   "metadata": {},
   "outputs": [],
   "source": [
    "# let's start by bringing in pandas and numpy\n",
    "import pandas as pd\n",
    "import numpy as np"
   ]
  },
  {
   "cell_type": "code",
   "execution_count": 2,
   "id": "8b41978d",
   "metadata": {},
   "outputs": [],
   "source": [
    "def proportion_of_education():\n",
    "    \n",
    "    df = pd.read_csv('Datasets/NISPUF17.csv', index_col=0)\n",
    "    # According to NIS-PUF17-DUG.pdf, the column 'EDUC1' has the information related to the mothers' \n",
    "    # educational level\n",
    "    df = df['EDUC1']\n",
    "    \n",
    "    survey = {\"less than high school\":0.0,\n",
    "              \"high school\":0.0,\n",
    "              \"more than high school but not college\":0.0,\n",
    "              \"college\":0.0}\n",
    "    \n",
    "    n = len(df)\n",
    "    \n",
    "    # Here 1 represents mothers which educational level is less than high school, 2 does who studied the whole\n",
    "    # high school, and so on\n",
    "    survey['less than high school'] = np.sum(df==1)/n\n",
    "    survey['high school'] = np.sum(df==2)/n\n",
    "    survey['more than high school but not college'] = np.sum(df==3)/n\n",
    "    survey['college'] = np.sum(df==4)/n\n",
    "    \n",
    "    return survey\n",
    "\n",
    "assert type(proportion_of_education())==type({}), \"We must return a dictionary.\"\n",
    "assert len(proportion_of_education()) == 4, \"We have not returned a dictionary with four items in it.\"\n",
    "assert \"less than high school\" in proportion_of_education().keys(), \"We have not returned a dictionary with the correct keys.\"\n",
    "assert \"high school\" in proportion_of_education().keys(), \"We have not returned a dictionary with the correct keys.\"\n",
    "assert \"more than high school but not college\" in proportion_of_education().keys(), \"We have not returned a dictionary with the correct keys.\"\n",
    "assert \"college\" in proportion_of_education().keys(), \"We have not returned a dictionary with the correct keys.\""
   ]
  },
  {
   "cell_type": "code",
   "execution_count": 3,
   "id": "002fe663",
   "metadata": {},
   "outputs": [
    {
     "data": {
      "text/plain": [
       "{'less than high school': 0.10202002459160373,\n",
       " 'high school': 0.172352011241876,\n",
       " 'more than high school but not college': 0.24588090637625154,\n",
       " 'college': 0.47974705779026877}"
      ]
     },
     "execution_count": 3,
     "metadata": {},
     "output_type": "execute_result"
    }
   ],
   "source": [
    "proportion_of_education()"
   ]
  },
  {
   "cell_type": "markdown",
   "id": "eb847404",
   "metadata": {},
   "source": [
    "## Question 2\n",
    "Let's explore the relationship between being fed breastmilk as a child and getting a seasonal influenza vaccine from a healthcare provider. Return a tuple of the average number of influenza vaccines for those children we know received breastmilk as a child and those who know did not.\n",
    "\n",
    "*This function should return a tuple in the form (use the correct numbers:*\n",
    "```\n",
    "(2.5, 0.1)\n",
    "```"
   ]
  },
  {
   "cell_type": "code",
   "execution_count": 4,
   "id": "589bedd6",
   "metadata": {},
   "outputs": [],
   "source": [
    "def average_influenza_doses():\n",
    "    \n",
    "    df = pd.read_csv('Datasets/NISPUF17.csv', index_col=0)\n",
    "    # CBF_01 has the information about whether or not a child ever fed breast milk (this is depicted by 1 and 2,\n",
    "    # repectively), or whether the information is unkown or missing (3 and 4).\n",
    "    # On the other hand, P_NUMFLU tells us about the total number of seasonal influenza doses\n",
    "    df1 = df[['CBF_01', 'P_NUMFLU']]\n",
    "    df1 = df1.dropna() # let's drop the NaN values\n",
    "    \n",
    "    # here we are interested on fed breast milk children\n",
    "    fed = df1[(df1['CBF_01']==1) & (df1['P_NUMFLU']>=0)]\n",
    "    fed = np.array(fed['P_NUMFLU'])\n",
    "    fed_av = np.sum(fed)/len(fed)\n",
    "    \n",
    "    # and here we are interested on NOT fed breast milk children\n",
    "    no_fed = df1[(df1['CBF_01']==2) & (df1['P_NUMFLU']>=0)]\n",
    "    no_fed = np.array(no_fed['P_NUMFLU'])\n",
    "    no_fed_av = np.sum(no_fed)/len(no_fed)\n",
    "    \n",
    "    # Finally we get the mean value of the number of influenza vaccines for each group we consider\n",
    "    average = (fed_av, no_fed_av)\n",
    "    \n",
    "    return average\n",
    "\n",
    "assert len(average_influenza_doses())==2, \"Return two values in a tuple, the first for yes and the second for no.\""
   ]
  },
  {
   "cell_type": "code",
   "execution_count": 5,
   "id": "3a931139",
   "metadata": {},
   "outputs": [
    {
     "data": {
      "text/plain": [
       "(1.8799187420058687, 1.5963945918878317)"
      ]
     },
     "execution_count": 5,
     "metadata": {},
     "output_type": "execute_result"
    }
   ],
   "source": [
    "average_influenza_doses()"
   ]
  },
  {
   "cell_type": "markdown",
   "id": "0dd3acc3",
   "metadata": {},
   "source": [
    "## Question 3\n",
    "It would be interesting to see if there is any evidence of a link between vaccine effectiveness and sex of the child. Calculate the ratio of the number of children who contracted chickenpox but were vaccinated against it (at least one varicella dose) versus those who were vaccinated but did not contract chicken pox. Return results by sex. \n",
    "\n",
    "*This function should return a dictionary in the form of (use the correct numbers):* \n",
    "```\n",
    "    {\"male\":0.2,\n",
    "    \"female\":0.4}\n",
    "```"
   ]
  },
  {
   "cell_type": "code",
   "execution_count": 6,
   "id": "f32d1ecd",
   "metadata": {},
   "outputs": [],
   "source": [
    "def chickenpox_by_sex():\n",
    "    \n",
    "    df = pd.read_csv('Datasets/NISPUF17.csv', index_col=0)\n",
    "    # In HAD_CPOX, 1 represents who contracted CPOX and 2 the opposite\n",
    "    df1 = df[['SEX', 'P_NUMVRC', 'HAD_CPOX']]\n",
    "    \n",
    "    # Here are males who has one dose or more, and contracted CPOX\n",
    "    male_1 = df1[(df1['SEX']==1) & (df1['P_NUMVRC']>=1) & (df1['HAD_CPOX']==1)]\n",
    "    male_1 = len(male_1['SEX'])\n",
    "    # Here are males who has one dose or more, and NOT contracted CPOX\n",
    "    male_2 = df1[(df1['SEX']==1) & (df1['P_NUMVRC']>=1) & (df1['HAD_CPOX']==2)]\n",
    "    male_2 = len(male_2['SEX'])\n",
    "    # Here the same but for women\n",
    "    female_1 = df1[(df1['SEX']==2) & (df1['P_NUMVRC']>=1) & (df1['HAD_CPOX']==1)]\n",
    "    female_1 = len(female_1['SEX'])\n",
    "    \n",
    "    female_2 = df1[(df1['SEX']==2) & (df1['P_NUMVRC']>=1) & (df1['HAD_CPOX']==2)]\n",
    "    female_2 = len(female_2['SEX'])\n",
    "    # and finally we compute the ratio between who had and not CPOX for males and females\n",
    "    result = {\"male\": male_1/male_2,\n",
    "              \"female\": female_1/female_2}\n",
    "    \n",
    "    return result\n",
    "\n",
    "assert len(chickenpox_by_sex())==2, \"Return a dictionary with two items, the first for males and the second for females.\""
   ]
  },
  {
   "cell_type": "code",
   "execution_count": 7,
   "id": "fc689c92",
   "metadata": {},
   "outputs": [
    {
     "data": {
      "text/plain": [
       "{'male': 0.009675583380762664, 'female': 0.0077918259335489565}"
      ]
     },
     "execution_count": 7,
     "metadata": {},
     "output_type": "execute_result"
    }
   ],
   "source": [
    "chickenpox_by_sex()"
   ]
  },
  {
   "cell_type": "markdown",
   "id": "c14a8f93",
   "metadata": {},
   "source": [
    "## Question 4\n",
    "If we wanted to know if vaccines work, we might look at the correlation between the use of the vaccine and whether it results in prevention of the infection or disease [1]. In this question, you are to see if there is a correlation between having had the chicken pox and the number of chickenpox vaccine doses given (varicella).\n",
    "\n",
    "A positive correlation (e.g., `corr > 0`) means that an increase in `had_chickenpox_column` (which means more no’s) would also increase the values of `num_chickenpox_vaccine_column` (which means more doses of vaccine). If there is a negative correlation (e.g., `corr < 0`), it indicates that having had chickenpox is related to an increase in the number of vaccine doses.\n",
    "\n",
    "Also, `pval` is the probability that we observe a correlation between `had_chickenpox_column` and `num_chickenpox_vaccine_column` which is greater than or equal to a particular value occurred by chance. A small `pval` means that the observed correlation is highly unlikely to occur by chance."
   ]
  },
  {
   "cell_type": "code",
   "execution_count": 8,
   "id": "4481faa3",
   "metadata": {},
   "outputs": [],
   "source": [
    "# to deal with correlation topics we bring in scipy\n",
    "import scipy.stats as stats"
   ]
  },
  {
   "cell_type": "code",
   "execution_count": 9,
   "id": "edbf8960",
   "metadata": {},
   "outputs": [],
   "source": [
    "def corr_chickenpox():\n",
    "    \n",
    "    df = pd.read_csv('Datasets/NISPUF17.csv', index_col=0)\n",
    "    df = df[['P_NUMVRC','HAD_CPOX']]\n",
    "    df = df.dropna()\n",
    "    # Two make the correlation we only take who had 2 or less doses\n",
    "    df = df[df['HAD_CPOX']<=2]\n",
    "    \n",
    "    # let's convert our data into a DataFrame\n",
    "    df1 = pd.DataFrame({\"had_chickenpox_column\": df['HAD_CPOX'],\n",
    "                        \"num_chickenpox_vaccine_column\": df['P_NUMVRC']})\n",
    "\n",
    "    # here is some stub code to actually run the correlation\n",
    "    corr, pval = stats.pearsonr(df1[\"had_chickenpox_column\"],df1[\"num_chickenpox_vaccine_column\"])\n",
    "    \n",
    "    return corr, pval\n",
    "\n",
    "corr, pval = corr_chickenpox()\n",
    "assert -1<= corr <=1, \"You must return a float number between -1.0 and 1.0.\""
   ]
  },
  {
   "cell_type": "code",
   "execution_count": 10,
   "id": "111e7ba4",
   "metadata": {},
   "outputs": [
    {
     "data": {
      "text/plain": [
       "(0.07044873460148016, 2.7780263182891086e-18)"
      ]
     },
     "execution_count": 10,
     "metadata": {},
     "output_type": "execute_result"
    }
   ],
   "source": [
    "# pval must be very very small\n",
    "corr_chickenpox()"
   ]
  }
 ],
 "metadata": {
  "kernelspec": {
   "display_name": "Python 3 (ipykernel)",
   "language": "python",
   "name": "python3"
  },
  "language_info": {
   "codemirror_mode": {
    "name": "ipython",
    "version": 3
   },
   "file_extension": ".py",
   "mimetype": "text/x-python",
   "name": "python",
   "nbconvert_exporter": "python",
   "pygments_lexer": "ipython3",
   "version": "3.10.7"
  }
 },
 "nbformat": 4,
 "nbformat_minor": 5
}
